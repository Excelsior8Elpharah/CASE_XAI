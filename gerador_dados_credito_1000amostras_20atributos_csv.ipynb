{
  "nbformat": 4,
  "nbformat_minor": 0,
  "metadata": {
    "colab": {
      "provenance": []
    },
    "kernelspec": {
      "name": "python3",
      "display_name": "Python 3"
    },
    "language_info": {
      "name": "python"
    }
  },
  "cells": [
    {
      "cell_type": "code",
      "source": [
        "!pip install faker"
      ],
      "metadata": {
        "colab": {
          "base_uri": "https://localhost:8080/"
        },
        "id": "ic23CVz3R6yC",
        "outputId": "b0858595-0559-4516-9154-4e034c3bbc85"
      },
      "execution_count": null,
      "outputs": [
        {
          "output_type": "stream",
          "name": "stdout",
          "text": [
            "Collecting faker\n",
            "  Downloading faker-37.4.2-py3-none-any.whl.metadata (15 kB)\n",
            "Requirement already satisfied: tzdata in /usr/local/lib/python3.11/dist-packages (from faker) (2025.2)\n",
            "Downloading faker-37.4.2-py3-none-any.whl (1.9 MB)\n",
            "\u001b[?25l   \u001b[90m━━━━━━━━━━━━━━━━━━━━━━━━━━━━━━━━━━━━━━━━\u001b[0m \u001b[32m0.0/1.9 MB\u001b[0m \u001b[31m?\u001b[0m eta \u001b[36m-:--:--\u001b[0m\r\u001b[2K   \u001b[91m━━━━━\u001b[0m\u001b[91m╸\u001b[0m\u001b[90m━━━━━━━━━━━━━━━━━━━━━━━━━━━━━━━━━━\u001b[0m \u001b[32m0.3/1.9 MB\u001b[0m \u001b[31m8.0 MB/s\u001b[0m eta \u001b[36m0:00:01\u001b[0m\r\u001b[2K   \u001b[91m━━━━━━━━━━━━━━━━━━━━━━━━━━━━━━━━━━━━━━━\u001b[0m\u001b[91m╸\u001b[0m \u001b[32m1.9/1.9 MB\u001b[0m \u001b[31m29.0 MB/s\u001b[0m eta \u001b[36m0:00:01\u001b[0m\r\u001b[2K   \u001b[90m━━━━━━━━━━━━━━━━━━━━━━━━━━━━━━━━━━━━━━━━\u001b[0m \u001b[32m1.9/1.9 MB\u001b[0m \u001b[31m23.0 MB/s\u001b[0m eta \u001b[36m0:00:00\u001b[0m\n",
            "\u001b[?25hInstalling collected packages: faker\n",
            "Successfully installed faker-37.4.2\n"
          ]
        }
      ]
    },
    {
      "cell_type": "code",
      "source": [
        "import numpy as np\n",
        "import pandas as pd\n",
        "from faker import Faker\n",
        "from google.colab import files\n",
        "files.download(\"dados_credito_1000amostras_20atributos.csv\")\n",
        "\n",
        "\n",
        "# Configuração\n",
        "np.random.seed(42)\n",
        "fake = Faker('pt_BR')\n",
        "n = 1000\n",
        "\n",
        "# Gerar dados fictícios\n",
        "data = {\n",
        "    # Atributos básicos\n",
        "    \"ID_Cliente\": [f\"CL_{i:04d}\" for i in range(1, n+1)],\n",
        "    \"Nome\": [fake.name() for _ in range(n)],\n",
        "    \"Idade\": np.random.randint(18, 70, size=n),\n",
        "    \"Estado\": [fake.estado_sigla() for _ in range(n)],\n",
        "    \"Cidade\": [fake.city() for _ in range(n)],\n",
        "\n",
        "    # Atributos financeiros diretos\n",
        "    \"Renda_Mensal\": np.random.randint(1500, 30000, size=n),\n",
        "    \"Score_Credito\": np.random.randint(300, 1000, size=n),\n",
        "    \"Tempo_Banco_Meses\": np.random.randint(3, 240, size=n),\n",
        "\n",
        "    # Atributos de emprego\n",
        "    \"Tempo_Emprego_Meses\": np.random.randint(0, 240, size=n),\n",
        "    \"Tipo_Emprego\": np.random.choice([\"CLT\", \"PJ\", \"Autônomo\", \"Outros\"], size=n, p=[0.6, 0.2, 0.15, 0.05]),\n",
        "    \"Escolaridade\": np.random.choice([\"Fundamental\", \"Médio\", \"Superior\", \"Pós-graduação\"], size=n, p=[0.1, 0.4, 0.4, 0.1]),\n",
        "\n",
        "    # Histórico\n",
        "    \"Historico_Inadimplencia\": np.random.choice([0, 1], size=n, p=[0.7, 0.3]),\n",
        "    \"Qtde_Emprestimos_Ativos\": np.random.randint(0, 5, size=n),\n",
        "    \"Qtde_Cartoes\": np.random.randint(1, 6, size=n),\n",
        "\n",
        "    # Valor solicitado\n",
        "    \"Valor_Solicitado\": np.random.randint(1000, 100000, size=n)\n",
        "}\n",
        "\n",
        "# Criar DataFrame base\n",
        "df = pd.DataFrame(data)\n",
        "\n",
        "# Cálculos derivados\n",
        "df[\"Renda_Anual\"] = df[\"Renda_Mensal\"] * 12\n",
        "df[\"Patrimonio_Liquido\"] = np.random.exponential(scale=df[\"Renda_Anual\"]/5).astype(int)\n",
        "df[\"Divida_Total\"] = np.random.uniform(0.1, 5, size=n) * df[\"Renda_Anual\"]\n",
        "df[\"Parcelas_Mensais\"] = np.random.uniform(0.05, 0.4, size=n) * df[\"Renda_Mensal\"]\n",
        "df[\"Limite_Credito\"] = np.random.uniform(1, 12, size=n) * df[\"Renda_Mensal\"]\n",
        "df[\"Utilizacao_Credito\"] = np.random.uniform(0, 1, size=n).round(2)\n",
        "df[\"Endividamento_%\"] = (df[\"Parcelas_Mensais\"] / df[\"Renda_Mensal\"] * 100).round(1)\n",
        "df[\"Valor_vs_Renda\"] = (df[\"Valor_Solicitado\"] / df[\"Renda_Mensal\"]).round(2)\n",
        "\n",
        "# Criar target (Aprovado ou Não)\n",
        "conditions = (\n",
        "    (df[\"Score_Credito\"] >= 600) &\n",
        "    (df[\"Endividamento_%\"] <= 40) &\n",
        "    (df[\"Tempo_Emprego_Meses\"] >= 6) &\n",
        "    (df[\"Historico_Inadimplencia\"] == 0) &\n",
        "    (df[\"Valor_vs_Renda\"] <= 10)\n",
        ")\n",
        "df[\"Aprovado\"] = np.where(conditions, 1, 0)\n",
        "\n",
        "# Salvar como CSV\n",
        "df.to_csv(\"dados_credito_1000amostras_20atributos.csv\", index=False)\n",
        "print(\"✅ Arquivo 'dados_credito_1000amostras_20atributos.csv' gerado com sucesso!\")\n"
      ],
      "metadata": {
        "colab": {
          "base_uri": "https://localhost:8080/",
          "height": 35
        },
        "id": "YHx0ARLSQXlK",
        "outputId": "10a521b5-b092-45c4-dc48-b623eaa8419f"
      },
      "execution_count": null,
      "outputs": [
        {
          "output_type": "display_data",
          "data": {
            "text/plain": [
              "<IPython.core.display.Javascript object>"
            ],
            "application/javascript": [
              "\n",
              "    async function download(id, filename, size) {\n",
              "      if (!google.colab.kernel.accessAllowed) {\n",
              "        return;\n",
              "      }\n",
              "      const div = document.createElement('div');\n",
              "      const label = document.createElement('label');\n",
              "      label.textContent = `Downloading \"${filename}\": `;\n",
              "      div.appendChild(label);\n",
              "      const progress = document.createElement('progress');\n",
              "      progress.max = size;\n",
              "      div.appendChild(progress);\n",
              "      document.body.appendChild(div);\n",
              "\n",
              "      const buffers = [];\n",
              "      let downloaded = 0;\n",
              "\n",
              "      const channel = await google.colab.kernel.comms.open(id);\n",
              "      // Send a message to notify the kernel that we're ready.\n",
              "      channel.send({})\n",
              "\n",
              "      for await (const message of channel.messages) {\n",
              "        // Send a message to notify the kernel that we're ready.\n",
              "        channel.send({})\n",
              "        if (message.buffers) {\n",
              "          for (const buffer of message.buffers) {\n",
              "            buffers.push(buffer);\n",
              "            downloaded += buffer.byteLength;\n",
              "            progress.value = downloaded;\n",
              "          }\n",
              "        }\n",
              "      }\n",
              "      const blob = new Blob(buffers, {type: 'application/binary'});\n",
              "      const a = document.createElement('a');\n",
              "      a.href = window.URL.createObjectURL(blob);\n",
              "      a.download = filename;\n",
              "      div.appendChild(a);\n",
              "      a.click();\n",
              "      div.remove();\n",
              "    }\n",
              "  "
            ]
          },
          "metadata": {}
        },
        {
          "output_type": "display_data",
          "data": {
            "text/plain": [
              "<IPython.core.display.Javascript object>"
            ],
            "application/javascript": [
              "download(\"download_fa36c740-86b8-41df-9ed1-a92e5f836a48\", \"dados_credito_1000amostras_20atributos.csv\", 171147)"
            ]
          },
          "metadata": {}
        },
        {
          "output_type": "stream",
          "name": "stdout",
          "text": [
            "✅ Arquivo 'dados_credito_1000amostras_20atributos.csv' gerado com sucesso!\n"
          ]
        }
      ]
    }
  ]
}